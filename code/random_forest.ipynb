{
 "cells": [
  {
   "cell_type": "code",
   "execution_count": 1,
   "metadata": {},
   "outputs": [],
   "source": [
    "import pandas as pd\n",
    "import numpy as np\n",
    "from sklearn.metrics import confusion_matrix\n",
    "from sklearn.metrics import accuracy_score,precision_score,recall_score\n",
    "from sklearn.ensemble import RandomForestClassifier\n",
    "from sklearn import tree\n",
    "import matplotlib.pyplot as plt\n",
    "import time"
   ]
  },
  {
   "cell_type": "code",
   "execution_count": 2,
   "metadata": {},
   "outputs": [],
   "source": [
    "x_train = pd.read_csv('C:/Spring2021/BigData_ML/MyProject/data/X_Train_01.csv',header=None)\n",
    "x_test = pd.read_csv('C:/Spring2021/BigData_ML/MyProject/data/X_Test_01.csv',header=None)"
   ]
  },
  {
   "cell_type": "code",
   "execution_count": 3,
   "metadata": {},
   "outputs": [],
   "source": [
    "y = x_train[64]\n",
    "Y = np.array(y)\n",
    "x_train.drop(64,axis=1,inplace=True)\n",
    "X = x_train\n",
    "X1 = np.array(X)"
   ]
  },
  {
   "cell_type": "code",
   "execution_count": 4,
   "metadata": {},
   "outputs": [],
   "source": [
    "randomFClassifier = RandomForestClassifier(random_state=0,n_estimators=1000,oob_score=True, n_jobs=1)\n",
    "randomFClassifier = randomFClassifier.fit(X1, Y)"
   ]
  },
  {
   "cell_type": "code",
   "execution_count": 5,
   "metadata": {},
   "outputs": [],
   "source": [
    "importance = randomFClassifier.feature_importances_\n",
    "indices = importance.argsort()[::-1]\n",
    "\n",
    "oob_error = 1- randomFClassifier.oob_score_"
   ]
  },
  {
   "cell_type": "code",
   "execution_count": 6,
   "metadata": {},
   "outputs": [],
   "source": [
    "test_y = x_test[64]\n",
    "Y_test = np.array(test_y)\n",
    "x_test.drop(64,axis=1,inplace=True)\n",
    "x_test_np = np.array(x_test)\n",
    "y_pred = randomFClassifier.predict(x_test_np)"
   ]
  },
  {
   "cell_type": "code",
   "execution_count": 7,
   "metadata": {},
   "outputs": [],
   "source": [
    "CC_test = confusion_matrix(test_y, y_pred)\n",
    "# 0 as my positive class\n",
    "TN = CC_test[1,1]\n",
    "FP = CC_test[1,0]\n",
    "FN = CC_test[0,1]\n",
    "TP = CC_test[0,0]\n",
    "\n",
    "FPFN = FP+FN\n",
    "TPTN = TP+TN"
   ]
  },
  {
   "cell_type": "code",
   "execution_count": 8,
   "metadata": {},
   "outputs": [
    {
     "name": "stdout",
     "output_type": "stream",
     "text": [
      "Test_Accuracy_Score: 0.7996323529411765\n",
      "Test_Precision_Score: 0.8097014925373135\n",
      "Test_Sensitivity_Score: 0.7890909090909091\n",
      "Test_Specificity_Score: 0.8104089219330854\n"
     ]
    }
   ],
   "source": [
    "Accuracy = 1/(1+(FPFN/TPTN))\n",
    "print(\"Test_Accuracy_Score:\",Accuracy)\n",
    "Precision = 1/(1+(FP/TP))\n",
    "print(\"Test_Precision_Score:\",Precision)\n",
    "Sensitivity = 1/(1+(FN/TP))\n",
    "print(\"Test_Sensitivity_Score:\",Sensitivity)\n",
    "Specificity = 1/(1+(FP/TN))\n",
    "print(\"Test_Specificity_Score:\",Specificity)"
   ]
  },
  {
   "cell_type": "markdown",
   "metadata": {},
   "source": [
    "## Qualitative Analyis using in-built library - sklearn.metrics"
   ]
  },
  {
   "cell_type": "code",
   "execution_count": 9,
   "metadata": {},
   "outputs": [
    {
     "name": "stdout",
     "output_type": "stream",
     "text": [
      "sklearn.metrics Accuracy 0.7996323529411765\n",
      "sklearn.metrics precision 0.7898550724637681\n",
      "sklearn.metrics sensitivity 0.8104089219330854\n"
     ]
    }
   ],
   "source": [
    "print('sklearn.metrics Accuracy',accuracy_score(test_y, y_pred))\n",
    "print('sklearn.metrics precision',precision_score(test_y, y_pred))\n",
    "print('sklearn.metrics sensitivity',recall_score(test_y, y_pred))"
   ]
  },
  {
   "cell_type": "code",
   "execution_count": null,
   "metadata": {},
   "outputs": [],
   "source": []
  }
 ],
 "metadata": {
  "kernelspec": {
   "display_name": "Python 3",
   "language": "python",
   "name": "python3"
  },
  "language_info": {
   "codemirror_mode": {
    "name": "ipython",
    "version": 3
   },
   "file_extension": ".py",
   "mimetype": "text/x-python",
   "name": "python",
   "nbconvert_exporter": "python",
   "pygments_lexer": "ipython3",
   "version": "3.8.5"
  }
 },
 "nbformat": 4,
 "nbformat_minor": 4
}
