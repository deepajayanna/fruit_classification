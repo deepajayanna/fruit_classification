{
 "cells": [
  {
   "cell_type": "code",
   "execution_count": 20,
   "metadata": {},
   "outputs": [],
   "source": [
    "import pandas as pd\n",
    "import numpy as np\n",
    "from numpy.linalg import inv\n",
    "from sklearn.metrics import confusion_matrix\n",
    "from sklearn.metrics import accuracy_score, precision_score, recall_score"
   ]
  },
  {
   "cell_type": "code",
   "execution_count": 21,
   "metadata": {},
   "outputs": [],
   "source": [
    "x_train = pd.read_csv('C:/Spring2021/BigData_ML/MyProject/data/X_Train_01.csv',header=None)\n",
    "x_test = pd.read_csv('C:/Spring2021/BigData_ML/MyProject/data/X_Test_01.csv',header=None)"
   ]
  },
  {
   "cell_type": "code",
   "execution_count": 22,
   "metadata": {},
   "outputs": [],
   "source": [
    "y = x_train[64]"
   ]
  },
  {
   "cell_type": "code",
   "execution_count": 23,
   "metadata": {},
   "outputs": [],
   "source": [
    "Y = np.array(y)"
   ]
  },
  {
   "cell_type": "code",
   "execution_count": 24,
   "metadata": {},
   "outputs": [],
   "source": [
    "x_train.drop(64,axis=1,inplace=True)\n",
    "X = x_train\n",
    "X1 = np.array(X)"
   ]
  },
  {
   "cell_type": "code",
   "execution_count": 25,
   "metadata": {},
   "outputs": [],
   "source": [
    "lamda = 10"
   ]
  },
  {
   "cell_type": "code",
   "execution_count": 26,
   "metadata": {},
   "outputs": [],
   "source": [
    "X2 = X1.transpose()"
   ]
  },
  {
   "cell_type": "code",
   "execution_count": 27,
   "metadata": {},
   "outputs": [],
   "source": [
    "XXdash = np.matmul(X2, X1)"
   ]
  },
  {
   "cell_type": "code",
   "execution_count": 28,
   "metadata": {},
   "outputs": [],
   "source": [
    "IX = inv(XXdash)"
   ]
  },
  {
   "cell_type": "code",
   "execution_count": 29,
   "metadata": {},
   "outputs": [],
   "source": [
    "ymulX = np.matmul(X2, Y)"
   ]
  },
  {
   "cell_type": "code",
   "execution_count": 30,
   "metadata": {},
   "outputs": [],
   "source": [
    "first = np.matmul(ymulX,IX)\n",
    "S= np.sign(first)\n",
    "one = (S*(lamda/2))\n",
    "two = ymulX-one\n",
    "three = np.matmul(two,IX)\n",
    "ZZ1 = np.matmul(X1, three)\n",
    "ZZ2 = ZZ1 >ZZ1.mean()\n",
    "yhatTrain = ZZ2.astype(int)"
   ]
  },
  {
   "cell_type": "code",
   "execution_count": 31,
   "metadata": {},
   "outputs": [],
   "source": [
    "CC = confusion_matrix(Y, yhatTrain)"
   ]
  },
  {
   "cell_type": "code",
   "execution_count": 32,
   "metadata": {},
   "outputs": [],
   "source": [
    "TN = CC[1,1]\n",
    "FP = CC[1,0]\n",
    "FN = CC[0,1]\n",
    "TP = CC[0,0]"
   ]
  },
  {
   "cell_type": "code",
   "execution_count": 33,
   "metadata": {},
   "outputs": [],
   "source": [
    "FPFN = FP+FN\n",
    "TPTN = TP+TN"
   ]
  },
  {
   "cell_type": "code",
   "execution_count": 34,
   "metadata": {},
   "outputs": [
    {
     "name": "stdout",
     "output_type": "stream",
     "text": [
      "Train_Accuracy_Score: 0.4724264705882353\n",
      "Train_Precision_Score: 0.47809878844361603\n",
      "Train_Sensitivity_Score: 0.46594005449591286\n",
      "Train_Specificity_Score: 0.4790697674418605\n",
      "------------------------------------\n"
     ]
    }
   ],
   "source": [
    "Accuracy = 1/(1+(FPFN/TPTN))\n",
    "print(\"Train_Accuracy_Score:\",Accuracy)\n",
    "Precision = 1/(1+(FP/TP))\n",
    "print(\"Train_Precision_Score:\",Precision)\n",
    "Sensitivity = 1/(1+(FN/TP))\n",
    "print(\"Train_Sensitivity_Score:\",Sensitivity)\n",
    "Specificity = 1/(1+(FP/TN))\n",
    "print(\"Train_Specificity_Score:\",Specificity)\n",
    "print('------------------------------------')"
   ]
  },
  {
   "cell_type": "code",
   "execution_count": 35,
   "metadata": {},
   "outputs": [],
   "source": [
    "test_y = x_test[64]\n",
    "Y_test = np.array(test_y)\n",
    "x_test.drop(64,axis=1,inplace=True)\n",
    "x_test_np = np.array(x_test)"
   ]
  },
  {
   "cell_type": "code",
   "execution_count": 36,
   "metadata": {},
   "outputs": [],
   "source": [
    "Z1_test = np.matmul(x_test_np, three)\n",
    "Z2_test = Z1_test > Z1_test.mean()"
   ]
  },
  {
   "cell_type": "code",
   "execution_count": 37,
   "metadata": {},
   "outputs": [],
   "source": [
    "yhat_test = Z2_test.astype(int)"
   ]
  },
  {
   "cell_type": "code",
   "execution_count": 39,
   "metadata": {},
   "outputs": [],
   "source": [
    "CC_test = confusion_matrix(test_y, yhat_test)\n",
    "TN = CC_test[0,0]\n",
    "FP = CC_test[0,1]\n",
    "FN = CC_test[1,0]\n",
    "TP = CC_test[1,1]\n",
    "FPFN = FP+FN\n",
    "TPTN = TP+TN"
   ]
  },
  {
   "cell_type": "code",
   "execution_count": 40,
   "metadata": {},
   "outputs": [
    {
     "name": "stdout",
     "output_type": "stream",
     "text": [
      "Test_Accuracy_Score: 0.42463235294117646\n",
      "Test_Precision_Score: 0.4225352112676056\n",
      "Test_Sensitivity_Score: 0.44609665427509293\n",
      "Test_Specificity_Score: 0.4036363636363636\n",
      "------------------------------------\n",
      "sklearn.metrics Accuracy 0.42463235294117646\n",
      "sklearn.metrics precision 0.4225352112676056\n",
      "sklearn.metrics sensitivity 0.44609665427509293\n"
     ]
    }
   ],
   "source": [
    "Accuracy = 1/(1+(FPFN/TPTN))\n",
    "print(\"Test_Accuracy_Score:\",Accuracy)\n",
    "Precision = 1/(1+(FP/TP))\n",
    "print(\"Test_Precision_Score:\",Precision)\n",
    "Sensitivity = 1/(1+(FN/TP))\n",
    "print(\"Test_Sensitivity_Score:\",Sensitivity)\n",
    "Specificity = 1/(1+(FP/TN))\n",
    "print(\"Test_Specificity_Score:\",Specificity)\n",
    "print('------------------------------------')\n",
    "#Inbuilt performance metrics\n",
    "print('sklearn.metrics Accuracy',accuracy_score(test_y, yhat_test))\n",
    "print('sklearn.metrics precision',precision_score(test_y, yhat_test))\n",
    "print('sklearn.metrics sensitivity',recall_score(test_y, yhat_test))"
   ]
  },
  {
   "cell_type": "code",
   "execution_count": null,
   "metadata": {},
   "outputs": [],
   "source": []
  }
 ],
 "metadata": {
  "kernelspec": {
   "display_name": "Python 3",
   "language": "python",
   "name": "python3"
  },
  "language_info": {
   "codemirror_mode": {
    "name": "ipython",
    "version": 3
   },
   "file_extension": ".py",
   "mimetype": "text/x-python",
   "name": "python",
   "nbconvert_exporter": "python",
   "pygments_lexer": "ipython3",
   "version": "3.8.5"
  }
 },
 "nbformat": 4,
 "nbformat_minor": 4
}
